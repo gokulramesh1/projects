{
 "cells": [
  {
   "cell_type": "code",
   "execution_count": 1,
   "metadata": {},
   "outputs": [],
   "source": [
    "import pandas as pd\n",
    "import math\n",
    "import json"
   ]
  },
  {
   "cell_type": "code",
   "execution_count": 2,
   "metadata": {},
   "outputs": [],
   "source": [
    "# Sum of Unicode values\n",
    "def ordsum(string):\n",
    "    return sum([ord(char) for char in string])\n",
    "\n",
    "# RMS of neighboring differences\n",
    "def rms_diff(string):\n",
    "    sq_diffs = [(ord(string[i])-ord(string[i-1]))**2 for i in range(len(string))]                                 \n",
    "    rms = round(math.sqrt(sum(sq_diffs)/len(sq_diffs)), 2)\n",
    "    return rms"
   ]
  },
  {
   "cell_type": "code",
   "execution_count": 3,
   "metadata": {},
   "outputs": [],
   "source": [
    "# Figure of merit in JSON\n",
    "\n",
    "def figure_of_merit(template):\n",
    "\n",
    "    fom = {'Length': len(template),\n",
    "        'Unicode sum': ordsum(template),\n",
    "        'RMS of differences': rms_diff(template),\n",
    "        }\n",
    "    \n",
    "    return json.dumps(fom)"
   ]
  },
  {
   "cell_type": "code",
   "execution_count": 4,
   "metadata": {},
   "outputs": [],
   "source": [
    "# Pattern matching\n",
    "\n",
    "def pattern_matching(csv, template):\n",
    "    \n",
    "    # From DataFrame to list of strings\n",
    "    strlist = csv.to_string(index=False).split()  \n",
    "    \n",
    "    # Index-string pairs of matching length\n",
    "    strings = [] \n",
    "    for i, string in enumerate(strlist):           \n",
    "        if len(string) == len(template):\n",
    "            strings.append((i, string))\n",
    "    \n",
    "    # Comparing FOM of string and template\n",
    "    fom = json.loads(figure_of_merit(template))             \n",
    "    for i, string in strings:\n",
    "        if ordsum(string) == fom['Unicode sum'] and rms_diff(string) == fom['RMS of differences']:\n",
    "            print(f\"Match found at index {i}: {string}\")\n",
    "            "
   ]
  },
  {
   "cell_type": "code",
   "execution_count": 5,
   "metadata": {},
   "outputs": [],
   "source": [
    "df = pd.read_csv(r\"C:\\Users\\Gokul\\Desktop\\random_csv.txt\")"
   ]
  },
  {
   "cell_type": "code",
   "execution_count": 6,
   "metadata": {},
   "outputs": [
    {
     "name": "stdout",
     "output_type": "stream",
     "text": [
      "Match found at index 3: pattern\n",
      "Match found at index 7: npatter\n",
      "Match found at index 16: ernpatt\n",
      "Match found at index 24: tternpa\n",
      "Match found at index 38: pattern\n",
      "Match found at index 59: atternp\n",
      "Match found at index 79: pattern\n",
      "Match found at index 94: rnpatte\n"
     ]
    }
   ],
   "source": [
    "pattern_matching(df, 'pattern')"
   ]
  },
  {
   "cell_type": "code",
   "execution_count": null,
   "metadata": {},
   "outputs": [],
   "source": []
  },
  {
   "cell_type": "code",
   "execution_count": null,
   "metadata": {},
   "outputs": [],
   "source": []
  }
 ],
 "metadata": {
  "kernelspec": {
   "display_name": "Python 3",
   "language": "python",
   "name": "python3"
  },
  "language_info": {
   "codemirror_mode": {
    "name": "ipython",
    "version": 3
   },
   "file_extension": ".py",
   "mimetype": "text/x-python",
   "name": "python",
   "nbconvert_exporter": "python",
   "pygments_lexer": "ipython3",
   "version": "3.7.3"
  }
 },
 "nbformat": 4,
 "nbformat_minor": 2
}
