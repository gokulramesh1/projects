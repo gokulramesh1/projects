{
 "cells": [
  {
   "cell_type": "code",
   "execution_count": 1,
   "id": "c06b8941",
   "metadata": {},
   "outputs": [],
   "source": [
    "import numpy as np\n",
    "import cv2\n",
    "import matplotlib.pyplot as plt\n",
    "import math\n",
    "from scipy import ndimage"
   ]
  },
  {
   "cell_type": "code",
   "execution_count": 2,
   "id": "3150764f",
   "metadata": {},
   "outputs": [
    {
     "name": "stdout",
     "output_type": "stream",
     "text": [
      "Angle of the axis of minimum inertia: 358.13 degrees\n"
     ]
    },
    {
     "data": {
      "text/plain": [
       "<matplotlib.image.AxesImage at 0x1e1442457d0>"
      ]
     },
     "execution_count": 2,
     "metadata": {},
     "output_type": "execute_result"
    },
    {
     "data": {
      "image/png": "[encoded data removed]",
      "text/plain": [
       "<Figure size 640x480 with 1 Axes>"
      ]
     },
     "metadata": {},
     "output_type": "display_data"
    }
   ],
   "source": [
    "# Own method to get angle and axis\n",
    "\n",
    "# Get contour\n",
    "img = cv2.imread(r\"C:\\Users\\gokulr\\Downloads\\slipgauge_test.png\", 0)\n",
    "ret, thresh = cv2.threshold(cv2.bitwise_not(img), 127, 255, 0)\n",
    "contours, hierarchy = cv2.findContours(thresh, cv2.RETR_TREE, cv2.CHAIN_APPROX_NONE)\n",
    "largest = max(contours, key=lambda x: cv2.contourArea(x))\n",
    "\n",
    "# COM\n",
    "M = cv2.moments(largest)\n",
    "cx = M['m10']/M['m00']\n",
    "cy = M['m01']/M['m00']\n",
    "com = (int(cx),int(cy))\n",
    "\n",
    "# Second order moment and angle of axis\n",
    "mu20 = M['mu20'] / M['m00']\n",
    "mu02 = M['mu02'] / M['m00']\n",
    "mu11 = M['mu11'] / M['m00']\n",
    "theta_rad = 0.5 * math.atan2(2 * mu11, mu20 - mu02)\n",
    "theta_deg = math.degrees(theta_rad)\n",
    "if theta_deg < 0:\n",
    "    theta_deg += 360\n",
    "print(f\"Angle of the axis of minimum inertia: {theta_deg:.2f} degrees\")\n",
    "\n",
    "# Draw axis\n",
    "b = com[0]\n",
    "h = b*np.tan(theta_rad)\n",
    "pt1 = (0, int(com[1]-h))\n",
    "pt2 = com\n",
    "com_plot = cv2.bitwise_not(cv2.circle(thresh, com, 20, 0, -1))\n",
    "line_plot = cv2.line(com_plot, pt1, pt2, 255, 5)\n",
    "plt.imshow(line_plot, cmap='gray')"
   ]
  },
  {
   "cell_type": "code",
   "execution_count": 3,
   "id": "fc198f1c",
   "metadata": {},
   "outputs": [
    {
     "name": "stdout",
     "output_type": "stream",
     "text": [
      "Axis of minimum second-order moment: [-0.99946946 -0.03257005]\n"
     ]
    }
   ],
   "source": [
    "# ChatGPT SciPy method which gets eigenvector\n",
    "\n",
    "labeled_image, num_labels = ndimage.label(thresh)\n",
    "\n",
    "# Get coordinates of all non-zero pixels (foreground)\n",
    "coords = np.column_stack(np.where(labeled_image > 0))\n",
    "\n",
    "# Compute the centroid (center of mass) of the object\n",
    "centroid = np.mean(coords, axis=0)\n",
    "\n",
    "# Shift the coordinates to the centroid\n",
    "coords_shifted = coords - centroid\n",
    "\n",
    "# Compute the covariance matrix (second-order moments)\n",
    "cov_matrix = np.cov(coords_shifted.T)\n",
    "\n",
    "# Perform eigenvalue decomposition to get the principal axes\n",
    "eigvals, eigvecs = np.linalg.eigh(cov_matrix)\n",
    "\n",
    "# The eigenvector with the smallest eigenvalue corresponds to the axis of minimum second-order moment\n",
    "min_eigenvector = eigvecs[:, np.argmin(eigvals)]\n",
    "\n",
    "# Print the result\n",
    "print(\"Axis of minimum second-order moment:\", min_eigenvector)"
   ]
  },
  {
   "cell_type": "code",
   "execution_count": 4,
   "id": "c91c05e5",
   "metadata": {},
   "outputs": [
    {
     "name": "stdout",
     "output_type": "stream",
     "text": [
      "Axis of minimum second-order moment: [-0.01457208 -0.99989382]\n"
     ]
    }
   ],
   "source": [
    "# ChatGPT OpenCV which gets eigenvector\n",
    "\n",
    "# Load the binary image\n",
    "# image = cv2.imread('binary_image.png', cv2.IMREAD_GRAYSCALE)\n",
    "\n",
    "# Find contours of the object\n",
    "contours, _ = cv2.findContours(thresh, cv2.RETR_EXTERNAL, cv2.CHAIN_APPROX_SIMPLE)\n",
    "\n",
    "# Assume the largest contour is the object\n",
    "cnt = max(contours, key=cv2.contourArea)\n",
    "\n",
    "# Get the coordinates of the contour\n",
    "points = cnt.reshape(-1, 2)\n",
    "\n",
    "# Compute the centroid (center of mass)\n",
    "M = cv2.moments(cnt)\n",
    "cx = M['m10'] / M['m00']\n",
    "cy = M['m01'] / M['m00']\n",
    "\n",
    "# Shift the points to the centroid\n",
    "points_shifted = points - [cx, cy]\n",
    "\n",
    "# Compute the covariance matrix (second-order moments)\n",
    "cov_matrix = np.cov(points_shifted.T)\n",
    "\n",
    "# Perform eigenvalue decomposition\n",
    "eigvals, eigvecs = np.linalg.eigh(cov_matrix)\n",
    "\n",
    "# The eigenvector with the smallest eigenvalue corresponds to the axis of minimum inertia\n",
    "min_eigenvector = eigvecs[:, np.argmin(eigvals)]\n",
    "\n",
    "# min_eigenvector gives you the direction of the axis with minimum second-order moment\n",
    "print(\"Axis of minimum second-order moment:\", min_eigenvector)"
   ]
  },
  {
   "cell_type": "code",
   "execution_count": null,
   "id": "be7a4ffa",
   "metadata": {},
   "outputs": [],
   "source": []
  },
  {
   "cell_type": "code",
   "execution_count": 5,
   "id": "2d29b5a0",
   "metadata": {},
   "outputs": [],
   "source": [
    "# TIMING\n",
    "from time import time"
   ]
  },
  {
   "cell_type": "code",
   "execution_count": 6,
   "id": "aef6bb41",
   "metadata": {},
   "outputs": [
    {
     "name": "stdout",
     "output_type": "stream",
     "text": [
      "0.08625578880310059\n"
     ]
    }
   ],
   "source": [
    "# Own with 1000 iterations\n",
    "t1 = time()\n",
    "for x in range(1000):\n",
    "    M = cv2.moments(largest)\n",
    "    cx = M['m10']/M['m00']\n",
    "    cy = M['m01']/M['m00']\n",
    "    com = (int(cx),int(cy))\n",
    "    mu20 = M['mu20'] / M['m00']\n",
    "    mu02 = M['mu02'] / M['m00']\n",
    "    mu11 = M['mu11'] / M['m00']\n",
    "    theta_rad = 0.5 * math.atan2(2 * mu11, mu20 - mu02)\n",
    "    theta_deg = math.degrees(theta_rad)\n",
    "    if theta_deg < 0:\n",
    "        theta_deg += 360\n",
    "    t2 = time()\n",
    "print(t2-t1)"
   ]
  },
  {
   "cell_type": "code",
   "execution_count": 7,
   "id": "74823522",
   "metadata": {},
   "outputs": [
    {
     "name": "stdout",
     "output_type": "stream",
     "text": [
      "16.417715072631836\n"
     ]
    }
   ],
   "source": [
    "# Scipy eigenvector with only 100 iterations - Very slow \n",
    "t1 = time()\n",
    "for x in range(100):\n",
    "    labeled_image, num_labels = ndimage.label(thresh)\n",
    "    coords = np.column_stack(np.where(labeled_image > 0))\n",
    "    centroid = np.mean(coords, axis=0)\n",
    "    coords_shifted = coords - centroid\n",
    "    cov_matrix = np.cov(coords_shifted.T)\n",
    "    eigvals, eigvecs = np.linalg.eigh(cov_matrix)\n",
    "    min_eigenvector = eigvecs[:, np.argmin(eigvals)]\n",
    "t2 = time()\n",
    "print(t2-t1)"
   ]
  },
  {
   "cell_type": "code",
   "execution_count": 8,
   "id": "20d1632b",
   "metadata": {},
   "outputs": [
    {
     "name": "stdout",
     "output_type": "stream",
     "text": [
      "0.3492133617401123\n"
     ]
    }
   ],
   "source": [
    "# OpenCV eigenvector\n",
    "t1 = time()\n",
    "for x in range(1000):\n",
    "    points = largest.reshape(-1, 2)\n",
    "    M = cv2.moments(cnt)\n",
    "    cx = M['m10'] / M['m00']\n",
    "    cy = M['m01'] / M['m00']\n",
    "    points_shifted = points - [cx, cy]\n",
    "    cov_matrix = np.cov(points_shifted.T)\n",
    "    eigvals, eigvecs = np.linalg.eigh(cov_matrix)\n",
    "    min_eigenvector = eigvecs[:, np.argmin(eigvals)]\n",
    "    t2 = time()\n",
    "print(t2-t1)"
   ]
  },
  {
   "cell_type": "code",
   "execution_count": null,
   "id": "024a8405",
   "metadata": {},
   "outputs": [],
   "source": []
  },
  {
   "cell_type": "code",
   "execution_count": null,
   "id": "136a0582",
   "metadata": {},
   "outputs": [],
   "source": []
  },
  {
   "cell_type": "code",
   "execution_count": null,
   "id": "eeb4efb7",
   "metadata": {},
   "outputs": [],
   "source": []
  },
  {
   "cell_type": "code",
   "execution_count": null,
   "id": "5703b330",
   "metadata": {},
   "outputs": [],
   "source": []
  }
 ],
 "metadata": {
  "kernelspec": {
   "display_name": "Python 3 (ipykernel)",
   "language": "python",
   "name": "python3"
  },
  "language_info": {
   "codemirror_mode": {
    "name": "ipython",
    "version": 3
   },
   "file_extension": ".py",
   "mimetype": "text/x-python",
   "name": "python",
   "nbconvert_exporter": "python",
   "pygments_lexer": "ipython3",
   "version": "3.11.4"
  }
 },
 "nbformat": 4,
 "nbformat_minor": 5
}
